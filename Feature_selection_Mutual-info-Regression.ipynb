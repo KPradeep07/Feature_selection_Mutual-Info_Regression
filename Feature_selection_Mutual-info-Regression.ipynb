{
 "cells": [
  {
   "cell_type": "code",
   "execution_count": 1,
   "id": "9d0785ec",
   "metadata": {},
   "outputs": [],
   "source": [
    "import pandas as pd\n",
    "import numpy as np\n",
    "import matplotlib.pyplot as plt\n",
    "import seaborn as sns\n",
    "from sklearn.model_selection import train_test_split\n",
    "from sklearn.feature_selection import mutual_info_regression\n",
    "from sklearn.feature_selection import SelectKBest , SelectPercentile"
   ]
  },
  {
   "cell_type": "code",
   "execution_count": 18,
   "id": "b60e391e",
   "metadata": {},
   "outputs": [
    {
     "data": {
      "text/html": [
       "<div>\n",
       "<style scoped>\n",
       "    .dataframe tbody tr th:only-of-type {\n",
       "        vertical-align: middle;\n",
       "    }\n",
       "\n",
       "    .dataframe tbody tr th {\n",
       "        vertical-align: top;\n",
       "    }\n",
       "\n",
       "    .dataframe thead th {\n",
       "        text-align: right;\n",
       "    }\n",
       "</style>\n",
       "<table border=\"1\" class=\"dataframe\">\n",
       "  <thead>\n",
       "    <tr style=\"text-align: right;\">\n",
       "      <th></th>\n",
       "      <th>Id</th>\n",
       "      <th>Model</th>\n",
       "      <th>Price</th>\n",
       "      <th>Age_08_04</th>\n",
       "      <th>Mfg_Month</th>\n",
       "      <th>Mfg_Year</th>\n",
       "      <th>KM</th>\n",
       "      <th>Fuel_Type</th>\n",
       "      <th>HP</th>\n",
       "      <th>Met_Color</th>\n",
       "      <th>...</th>\n",
       "      <th>Central_Lock</th>\n",
       "      <th>Powered_Windows</th>\n",
       "      <th>Power_Steering</th>\n",
       "      <th>Radio</th>\n",
       "      <th>Mistlamps</th>\n",
       "      <th>Sport_Model</th>\n",
       "      <th>Backseat_Divider</th>\n",
       "      <th>Metallic_Rim</th>\n",
       "      <th>Radio_cassette</th>\n",
       "      <th>Tow_Bar</th>\n",
       "    </tr>\n",
       "  </thead>\n",
       "  <tbody>\n",
       "    <tr>\n",
       "      <th>0</th>\n",
       "      <td>1</td>\n",
       "      <td>TOYOTA Corolla 2.0 D4D HATCHB TERRA 2/3-Doors</td>\n",
       "      <td>13500</td>\n",
       "      <td>23</td>\n",
       "      <td>10</td>\n",
       "      <td>2002</td>\n",
       "      <td>46986</td>\n",
       "      <td>Diesel</td>\n",
       "      <td>90</td>\n",
       "      <td>1</td>\n",
       "      <td>...</td>\n",
       "      <td>1</td>\n",
       "      <td>1</td>\n",
       "      <td>1</td>\n",
       "      <td>0</td>\n",
       "      <td>0</td>\n",
       "      <td>0</td>\n",
       "      <td>1</td>\n",
       "      <td>0</td>\n",
       "      <td>0</td>\n",
       "      <td>0</td>\n",
       "    </tr>\n",
       "    <tr>\n",
       "      <th>1</th>\n",
       "      <td>2</td>\n",
       "      <td>TOYOTA Corolla 2.0 D4D HATCHB TERRA 2/3-Doors</td>\n",
       "      <td>13750</td>\n",
       "      <td>23</td>\n",
       "      <td>10</td>\n",
       "      <td>2002</td>\n",
       "      <td>72937</td>\n",
       "      <td>Diesel</td>\n",
       "      <td>90</td>\n",
       "      <td>1</td>\n",
       "      <td>...</td>\n",
       "      <td>1</td>\n",
       "      <td>0</td>\n",
       "      <td>1</td>\n",
       "      <td>0</td>\n",
       "      <td>0</td>\n",
       "      <td>0</td>\n",
       "      <td>1</td>\n",
       "      <td>0</td>\n",
       "      <td>0</td>\n",
       "      <td>0</td>\n",
       "    </tr>\n",
       "    <tr>\n",
       "      <th>2</th>\n",
       "      <td>3</td>\n",
       "      <td>�TOYOTA Corolla 2.0 D4D HATCHB TERRA 2/3-Doors</td>\n",
       "      <td>13950</td>\n",
       "      <td>24</td>\n",
       "      <td>9</td>\n",
       "      <td>2002</td>\n",
       "      <td>41711</td>\n",
       "      <td>Diesel</td>\n",
       "      <td>90</td>\n",
       "      <td>1</td>\n",
       "      <td>...</td>\n",
       "      <td>0</td>\n",
       "      <td>0</td>\n",
       "      <td>1</td>\n",
       "      <td>0</td>\n",
       "      <td>0</td>\n",
       "      <td>0</td>\n",
       "      <td>1</td>\n",
       "      <td>0</td>\n",
       "      <td>0</td>\n",
       "      <td>0</td>\n",
       "    </tr>\n",
       "    <tr>\n",
       "      <th>3</th>\n",
       "      <td>4</td>\n",
       "      <td>TOYOTA Corolla 2.0 D4D HATCHB TERRA 2/3-Doors</td>\n",
       "      <td>14950</td>\n",
       "      <td>26</td>\n",
       "      <td>7</td>\n",
       "      <td>2002</td>\n",
       "      <td>48000</td>\n",
       "      <td>Diesel</td>\n",
       "      <td>90</td>\n",
       "      <td>0</td>\n",
       "      <td>...</td>\n",
       "      <td>0</td>\n",
       "      <td>0</td>\n",
       "      <td>1</td>\n",
       "      <td>0</td>\n",
       "      <td>0</td>\n",
       "      <td>0</td>\n",
       "      <td>1</td>\n",
       "      <td>0</td>\n",
       "      <td>0</td>\n",
       "      <td>0</td>\n",
       "    </tr>\n",
       "    <tr>\n",
       "      <th>4</th>\n",
       "      <td>5</td>\n",
       "      <td>TOYOTA Corolla 2.0 D4D HATCHB SOL 2/3-Doors</td>\n",
       "      <td>13750</td>\n",
       "      <td>30</td>\n",
       "      <td>3</td>\n",
       "      <td>2002</td>\n",
       "      <td>38500</td>\n",
       "      <td>Diesel</td>\n",
       "      <td>90</td>\n",
       "      <td>0</td>\n",
       "      <td>...</td>\n",
       "      <td>1</td>\n",
       "      <td>1</td>\n",
       "      <td>1</td>\n",
       "      <td>0</td>\n",
       "      <td>1</td>\n",
       "      <td>0</td>\n",
       "      <td>1</td>\n",
       "      <td>0</td>\n",
       "      <td>0</td>\n",
       "      <td>0</td>\n",
       "    </tr>\n",
       "  </tbody>\n",
       "</table>\n",
       "<p>5 rows × 38 columns</p>\n",
       "</div>"
      ],
      "text/plain": [
       "   Id                                           Model  Price  Age_08_04  \\\n",
       "0   1   TOYOTA Corolla 2.0 D4D HATCHB TERRA 2/3-Doors  13500         23   \n",
       "1   2   TOYOTA Corolla 2.0 D4D HATCHB TERRA 2/3-Doors  13750         23   \n",
       "2   3  �TOYOTA Corolla 2.0 D4D HATCHB TERRA 2/3-Doors  13950         24   \n",
       "3   4   TOYOTA Corolla 2.0 D4D HATCHB TERRA 2/3-Doors  14950         26   \n",
       "4   5     TOYOTA Corolla 2.0 D4D HATCHB SOL 2/3-Doors  13750         30   \n",
       "\n",
       "   Mfg_Month  Mfg_Year     KM Fuel_Type  HP  Met_Color  ... Central_Lock  \\\n",
       "0         10      2002  46986    Diesel  90          1  ...            1   \n",
       "1         10      2002  72937    Diesel  90          1  ...            1   \n",
       "2          9      2002  41711    Diesel  90          1  ...            0   \n",
       "3          7      2002  48000    Diesel  90          0  ...            0   \n",
       "4          3      2002  38500    Diesel  90          0  ...            1   \n",
       "\n",
       "   Powered_Windows  Power_Steering  Radio  Mistlamps  Sport_Model  \\\n",
       "0                1               1      0          0            0   \n",
       "1                0               1      0          0            0   \n",
       "2                0               1      0          0            0   \n",
       "3                0               1      0          0            0   \n",
       "4                1               1      0          1            0   \n",
       "\n",
       "   Backseat_Divider  Metallic_Rim  Radio_cassette  Tow_Bar  \n",
       "0                 1             0               0        0  \n",
       "1                 1             0               0        0  \n",
       "2                 1             0               0        0  \n",
       "3                 1             0               0        0  \n",
       "4                 1             0               0        0  \n",
       "\n",
       "[5 rows x 38 columns]"
      ]
     },
     "execution_count": 18,
     "metadata": {},
     "output_type": "execute_result"
    }
   ],
   "source": [
    "df= pd.read_csv(\"ToyotaCorolla.csv\")\n",
    "df.head()"
   ]
  },
  {
   "cell_type": "code",
   "execution_count": 19,
   "id": "56a9bc57",
   "metadata": {},
   "outputs": [
    {
     "data": {
      "text/plain": [
       "Index(['Id', 'Model', 'Price', 'Age_08_04', 'Mfg_Month', 'Mfg_Year', 'KM',\n",
       "       'Fuel_Type', 'HP', 'Met_Color', 'Color', 'Automatic', 'cc', 'Doors',\n",
       "       'Cylinders', 'Gears', 'Quarterly_Tax', 'Weight', 'Mfr_Guarantee',\n",
       "       'BOVAG_Guarantee', 'Guarantee_Period', 'ABS', 'Airbag_1', 'Airbag_2',\n",
       "       'Airco', 'Automatic_airco', 'Boardcomputer', 'CD_Player',\n",
       "       'Central_Lock', 'Powered_Windows', 'Power_Steering', 'Radio',\n",
       "       'Mistlamps', 'Sport_Model', 'Backseat_Divider', 'Metallic_Rim',\n",
       "       'Radio_cassette', 'Tow_Bar'],\n",
       "      dtype='object')"
      ]
     },
     "execution_count": 19,
     "metadata": {},
     "output_type": "execute_result"
    }
   ],
   "source": [
    "df.columns"
   ]
  },
  {
   "cell_type": "code",
   "execution_count": 20,
   "id": "46fd7daf",
   "metadata": {},
   "outputs": [],
   "source": [
    "# Removing ID column\n",
    "df.drop([\"Id\"], axis=1, inplace=True)"
   ]
  },
  {
   "cell_type": "code",
   "execution_count": 21,
   "id": "3916ff7f",
   "metadata": {},
   "outputs": [
    {
     "name": "stdout",
     "output_type": "stream",
     "text": [
      "<class 'pandas.core.frame.DataFrame'>\n",
      "RangeIndex: 1436 entries, 0 to 1435\n",
      "Data columns (total 37 columns):\n",
      " #   Column            Non-Null Count  Dtype \n",
      "---  ------            --------------  ----- \n",
      " 0   Model             1436 non-null   object\n",
      " 1   Price             1436 non-null   int64 \n",
      " 2   Age_08_04         1436 non-null   int64 \n",
      " 3   Mfg_Month         1436 non-null   int64 \n",
      " 4   Mfg_Year          1436 non-null   int64 \n",
      " 5   KM                1436 non-null   int64 \n",
      " 6   Fuel_Type         1436 non-null   object\n",
      " 7   HP                1436 non-null   int64 \n",
      " 8   Met_Color         1436 non-null   int64 \n",
      " 9   Color             1436 non-null   object\n",
      " 10  Automatic         1436 non-null   int64 \n",
      " 11  cc                1436 non-null   int64 \n",
      " 12  Doors             1436 non-null   int64 \n",
      " 13  Cylinders         1436 non-null   int64 \n",
      " 14  Gears             1436 non-null   int64 \n",
      " 15  Quarterly_Tax     1436 non-null   int64 \n",
      " 16  Weight            1436 non-null   int64 \n",
      " 17  Mfr_Guarantee     1436 non-null   int64 \n",
      " 18  BOVAG_Guarantee   1436 non-null   int64 \n",
      " 19  Guarantee_Period  1436 non-null   int64 \n",
      " 20  ABS               1436 non-null   int64 \n",
      " 21  Airbag_1          1436 non-null   int64 \n",
      " 22  Airbag_2          1436 non-null   int64 \n",
      " 23  Airco             1436 non-null   int64 \n",
      " 24  Automatic_airco   1436 non-null   int64 \n",
      " 25  Boardcomputer     1436 non-null   int64 \n",
      " 26  CD_Player         1436 non-null   int64 \n",
      " 27  Central_Lock      1436 non-null   int64 \n",
      " 28  Powered_Windows   1436 non-null   int64 \n",
      " 29  Power_Steering    1436 non-null   int64 \n",
      " 30  Radio             1436 non-null   int64 \n",
      " 31  Mistlamps         1436 non-null   int64 \n",
      " 32  Sport_Model       1436 non-null   int64 \n",
      " 33  Backseat_Divider  1436 non-null   int64 \n",
      " 34  Metallic_Rim      1436 non-null   int64 \n",
      " 35  Radio_cassette    1436 non-null   int64 \n",
      " 36  Tow_Bar           1436 non-null   int64 \n",
      "dtypes: int64(34), object(3)\n",
      "memory usage: 415.2+ KB\n"
     ]
    }
   ],
   "source": [
    "df.info()"
   ]
  },
  {
   "cell_type": "code",
   "execution_count": 30,
   "id": "be6b216e",
   "metadata": {},
   "outputs": [],
   "source": [
    "# To select the features having continuous data i.e. without catagorical data\n",
    "numeric_list = [\"int16\",\"int32\", \"int64\", \"float16\", \"float32\", \"float64\"]\n",
    "numeric_col = list(df.select_dtypes(include=numeric_list))"
   ]
  },
  {
   "cell_type": "code",
   "execution_count": 32,
   "id": "bb1c3c96",
   "metadata": {},
   "outputs": [
    {
     "data": {
      "text/plain": [
       "['Price',\n",
       " 'Age_08_04',\n",
       " 'Mfg_Month',\n",
       " 'Mfg_Year',\n",
       " 'KM',\n",
       " 'HP',\n",
       " 'Met_Color',\n",
       " 'Automatic',\n",
       " 'cc',\n",
       " 'Doors',\n",
       " 'Cylinders',\n",
       " 'Gears',\n",
       " 'Quarterly_Tax',\n",
       " 'Weight',\n",
       " 'Mfr_Guarantee',\n",
       " 'BOVAG_Guarantee',\n",
       " 'Guarantee_Period',\n",
       " 'ABS',\n",
       " 'Airbag_1',\n",
       " 'Airbag_2',\n",
       " 'Airco',\n",
       " 'Automatic_airco',\n",
       " 'Boardcomputer',\n",
       " 'CD_Player',\n",
       " 'Central_Lock',\n",
       " 'Powered_Windows',\n",
       " 'Power_Steering',\n",
       " 'Radio',\n",
       " 'Mistlamps',\n",
       " 'Sport_Model',\n",
       " 'Backseat_Divider',\n",
       " 'Metallic_Rim',\n",
       " 'Radio_cassette',\n",
       " 'Tow_Bar']"
      ]
     },
     "execution_count": 32,
     "metadata": {},
     "output_type": "execute_result"
    }
   ],
   "source": [
    "numeric_col # columns with catagorical data only"
   ]
  },
  {
   "cell_type": "code",
   "execution_count": 33,
   "id": "2d5d7593",
   "metadata": {},
   "outputs": [],
   "source": [
    "df1 = df[numeric_col]"
   ]
  },
  {
   "cell_type": "code",
   "execution_count": 35,
   "id": "5c557677",
   "metadata": {},
   "outputs": [
    {
     "data": {
      "text/html": [
       "<div>\n",
       "<style scoped>\n",
       "    .dataframe tbody tr th:only-of-type {\n",
       "        vertical-align: middle;\n",
       "    }\n",
       "\n",
       "    .dataframe tbody tr th {\n",
       "        vertical-align: top;\n",
       "    }\n",
       "\n",
       "    .dataframe thead th {\n",
       "        text-align: right;\n",
       "    }\n",
       "</style>\n",
       "<table border=\"1\" class=\"dataframe\">\n",
       "  <thead>\n",
       "    <tr style=\"text-align: right;\">\n",
       "      <th></th>\n",
       "      <th>Price</th>\n",
       "      <th>Age_08_04</th>\n",
       "      <th>Mfg_Month</th>\n",
       "      <th>Mfg_Year</th>\n",
       "      <th>KM</th>\n",
       "      <th>HP</th>\n",
       "      <th>Met_Color</th>\n",
       "      <th>Automatic</th>\n",
       "      <th>cc</th>\n",
       "      <th>Doors</th>\n",
       "      <th>...</th>\n",
       "      <th>Central_Lock</th>\n",
       "      <th>Powered_Windows</th>\n",
       "      <th>Power_Steering</th>\n",
       "      <th>Radio</th>\n",
       "      <th>Mistlamps</th>\n",
       "      <th>Sport_Model</th>\n",
       "      <th>Backseat_Divider</th>\n",
       "      <th>Metallic_Rim</th>\n",
       "      <th>Radio_cassette</th>\n",
       "      <th>Tow_Bar</th>\n",
       "    </tr>\n",
       "  </thead>\n",
       "  <tbody>\n",
       "    <tr>\n",
       "      <th>0</th>\n",
       "      <td>13500</td>\n",
       "      <td>23</td>\n",
       "      <td>10</td>\n",
       "      <td>2002</td>\n",
       "      <td>46986</td>\n",
       "      <td>90</td>\n",
       "      <td>1</td>\n",
       "      <td>0</td>\n",
       "      <td>2000</td>\n",
       "      <td>3</td>\n",
       "      <td>...</td>\n",
       "      <td>1</td>\n",
       "      <td>1</td>\n",
       "      <td>1</td>\n",
       "      <td>0</td>\n",
       "      <td>0</td>\n",
       "      <td>0</td>\n",
       "      <td>1</td>\n",
       "      <td>0</td>\n",
       "      <td>0</td>\n",
       "      <td>0</td>\n",
       "    </tr>\n",
       "    <tr>\n",
       "      <th>1</th>\n",
       "      <td>13750</td>\n",
       "      <td>23</td>\n",
       "      <td>10</td>\n",
       "      <td>2002</td>\n",
       "      <td>72937</td>\n",
       "      <td>90</td>\n",
       "      <td>1</td>\n",
       "      <td>0</td>\n",
       "      <td>2000</td>\n",
       "      <td>3</td>\n",
       "      <td>...</td>\n",
       "      <td>1</td>\n",
       "      <td>0</td>\n",
       "      <td>1</td>\n",
       "      <td>0</td>\n",
       "      <td>0</td>\n",
       "      <td>0</td>\n",
       "      <td>1</td>\n",
       "      <td>0</td>\n",
       "      <td>0</td>\n",
       "      <td>0</td>\n",
       "    </tr>\n",
       "    <tr>\n",
       "      <th>2</th>\n",
       "      <td>13950</td>\n",
       "      <td>24</td>\n",
       "      <td>9</td>\n",
       "      <td>2002</td>\n",
       "      <td>41711</td>\n",
       "      <td>90</td>\n",
       "      <td>1</td>\n",
       "      <td>0</td>\n",
       "      <td>2000</td>\n",
       "      <td>3</td>\n",
       "      <td>...</td>\n",
       "      <td>0</td>\n",
       "      <td>0</td>\n",
       "      <td>1</td>\n",
       "      <td>0</td>\n",
       "      <td>0</td>\n",
       "      <td>0</td>\n",
       "      <td>1</td>\n",
       "      <td>0</td>\n",
       "      <td>0</td>\n",
       "      <td>0</td>\n",
       "    </tr>\n",
       "    <tr>\n",
       "      <th>3</th>\n",
       "      <td>14950</td>\n",
       "      <td>26</td>\n",
       "      <td>7</td>\n",
       "      <td>2002</td>\n",
       "      <td>48000</td>\n",
       "      <td>90</td>\n",
       "      <td>0</td>\n",
       "      <td>0</td>\n",
       "      <td>2000</td>\n",
       "      <td>3</td>\n",
       "      <td>...</td>\n",
       "      <td>0</td>\n",
       "      <td>0</td>\n",
       "      <td>1</td>\n",
       "      <td>0</td>\n",
       "      <td>0</td>\n",
       "      <td>0</td>\n",
       "      <td>1</td>\n",
       "      <td>0</td>\n",
       "      <td>0</td>\n",
       "      <td>0</td>\n",
       "    </tr>\n",
       "    <tr>\n",
       "      <th>4</th>\n",
       "      <td>13750</td>\n",
       "      <td>30</td>\n",
       "      <td>3</td>\n",
       "      <td>2002</td>\n",
       "      <td>38500</td>\n",
       "      <td>90</td>\n",
       "      <td>0</td>\n",
       "      <td>0</td>\n",
       "      <td>2000</td>\n",
       "      <td>3</td>\n",
       "      <td>...</td>\n",
       "      <td>1</td>\n",
       "      <td>1</td>\n",
       "      <td>1</td>\n",
       "      <td>0</td>\n",
       "      <td>1</td>\n",
       "      <td>0</td>\n",
       "      <td>1</td>\n",
       "      <td>0</td>\n",
       "      <td>0</td>\n",
       "      <td>0</td>\n",
       "    </tr>\n",
       "  </tbody>\n",
       "</table>\n",
       "<p>5 rows × 34 columns</p>\n",
       "</div>"
      ],
      "text/plain": [
       "   Price  Age_08_04  Mfg_Month  Mfg_Year     KM  HP  Met_Color  Automatic  \\\n",
       "0  13500         23         10      2002  46986  90          1          0   \n",
       "1  13750         23         10      2002  72937  90          1          0   \n",
       "2  13950         24          9      2002  41711  90          1          0   \n",
       "3  14950         26          7      2002  48000  90          0          0   \n",
       "4  13750         30          3      2002  38500  90          0          0   \n",
       "\n",
       "     cc  Doors  ...  Central_Lock  Powered_Windows  Power_Steering  Radio  \\\n",
       "0  2000      3  ...             1                1               1      0   \n",
       "1  2000      3  ...             1                0               1      0   \n",
       "2  2000      3  ...             0                0               1      0   \n",
       "3  2000      3  ...             0                0               1      0   \n",
       "4  2000      3  ...             1                1               1      0   \n",
       "\n",
       "   Mistlamps  Sport_Model  Backseat_Divider  Metallic_Rim  Radio_cassette  \\\n",
       "0          0            0                 1             0               0   \n",
       "1          0            0                 1             0               0   \n",
       "2          0            0                 1             0               0   \n",
       "3          0            0                 1             0               0   \n",
       "4          1            0                 1             0               0   \n",
       "\n",
       "   Tow_Bar  \n",
       "0        0  \n",
       "1        0  \n",
       "2        0  \n",
       "3        0  \n",
       "4        0  \n",
       "\n",
       "[5 rows x 34 columns]"
      ]
     },
     "execution_count": 35,
     "metadata": {},
     "output_type": "execute_result"
    }
   ],
   "source": [
    "df1.head()"
   ]
  },
  {
   "cell_type": "code",
   "execution_count": 38,
   "id": "b54b7436",
   "metadata": {},
   "outputs": [],
   "source": [
    "X = df1.drop(\"Price\", axis=1)\n",
    "y = df1.iloc[:, 0]"
   ]
  },
  {
   "cell_type": "code",
   "execution_count": 41,
   "id": "d6e2cae0",
   "metadata": {},
   "outputs": [],
   "source": [
    "X_train, X_test, y_train, y_test = train_test_split(X, y, test_size=0.33, random_state=42)"
   ]
  },
  {
   "cell_type": "code",
   "execution_count": 42,
   "id": "65f45e6c",
   "metadata": {},
   "outputs": [
    {
     "data": {
      "text/plain": [
       "array([0.62197893, 0.01222321, 0.59360541, 0.24394296, 0.16606019,\n",
       "       0.05165605, 0.        , 0.01245609, 0.        , 0.0228542 ,\n",
       "       0.00131286, 0.1680888 , 0.23598109, 0.00307665, 0.02454835,\n",
       "       0.00706806, 0.08008435, 0.04132544, 0.05649069, 0.14537047,\n",
       "       0.0994517 , 0.27567871, 0.14617459, 0.10640885, 0.08601346,\n",
       "       0.00597835, 0.        , 0.02140268, 0.06107079, 0.        ,\n",
       "       0.01451347, 0.02044998, 0.        ])"
      ]
     },
     "execution_count": 42,
     "metadata": {},
     "output_type": "execute_result"
    }
   ],
   "source": [
    "# To find mutual infomation\n",
    "mut_info = mutual_info_regression(X_train, y_train)\n",
    "mut_info"
   ]
  },
  {
   "cell_type": "code",
   "execution_count": 43,
   "id": "b502a599",
   "metadata": {},
   "outputs": [
    {
     "data": {
      "text/plain": [
       "Age_08_04           0.621979\n",
       "Mfg_Year            0.593605\n",
       "Boardcomputer       0.275679\n",
       "KM                  0.243943\n",
       "Weight              0.235981\n",
       "Quarterly_Tax       0.168089\n",
       "HP                  0.166060\n",
       "CD_Player           0.146175\n",
       "Airco               0.145370\n",
       "Central_Lock        0.106409\n",
       "Automatic_airco     0.099452\n",
       "Powered_Windows     0.086013\n",
       "ABS                 0.080084\n",
       "Sport_Model         0.061071\n",
       "Airbag_2            0.056491\n",
       "Met_Color           0.051656\n",
       "Airbag_1            0.041325\n",
       "BOVAG_Guarantee     0.024548\n",
       "Cylinders           0.022854\n",
       "Mistlamps           0.021403\n",
       "Radio_cassette      0.020450\n",
       "Metallic_Rim        0.014513\n",
       "cc                  0.012456\n",
       "Mfg_Month           0.012223\n",
       "Guarantee_Period    0.007068\n",
       "Power_Steering      0.005978\n",
       "Mfr_Guarantee       0.003077\n",
       "Gears               0.001313\n",
       "Backseat_Divider    0.000000\n",
       "Automatic           0.000000\n",
       "Radio               0.000000\n",
       "Doors               0.000000\n",
       "Tow_Bar             0.000000\n",
       "dtype: float64"
      ]
     },
     "execution_count": 43,
     "metadata": {},
     "output_type": "execute_result"
    }
   ],
   "source": [
    "mut_info = pd.Series(mut_info)\n",
    "mut_info.index = X_train.columns\n",
    "mut_info.sort_values(ascending=False)"
   ]
  },
  {
   "cell_type": "code",
   "execution_count": 49,
   "id": "36ab73fb",
   "metadata": {},
   "outputs": [
    {
     "data": {
      "text/plain": [
       "<AxesSubplot:>"
      ]
     },
     "execution_count": 49,
     "metadata": {},
     "output_type": "execute_result"
    },
    {
     "data": {
      "image/png": "[encoded data removed]",
      "text/plain": [
       "<Figure size 864x720 with 1 Axes>"
      ]
     },
     "metadata": {
      "needs_background": "light"
     },
     "output_type": "display_data"
    }
   ],
   "source": [
    "plt.figure(figsize=(12, 10))\n",
    "mut_info.sort_values(ascending=False).plot.bar()"
   ]
  },
  {
   "cell_type": "markdown",
   "id": "9ef12fde",
   "metadata": {},
   "source": [
    "# Alternate method using SelectKBest class"
   ]
  },
  {
   "cell_type": "code",
   "execution_count": 50,
   "id": "f3cbad26",
   "metadata": {},
   "outputs": [
    {
     "data": {
      "text/plain": [
       "SelectKBest(score_func=<function mutual_info_regression at 0x0000029DD82F8280>)"
      ]
     },
     "execution_count": 50,
     "metadata": {},
     "output_type": "execute_result"
    }
   ],
   "source": [
    "# Selecting top 10 features\n",
    "top_col = SelectKBest(mutual_info_regression, k=10 )\n",
    "top_col.fit(X_train, y_train)"
   ]
  },
  {
   "cell_type": "code",
   "execution_count": 51,
   "id": "03a6c9f4",
   "metadata": {},
   "outputs": [
    {
     "data": {
      "text/plain": [
       "array([ True, False,  True,  True,  True, False, False, False, False,\n",
       "       False, False,  True,  True, False, False, False, False, False,\n",
       "       False,  True,  True,  True,  True, False, False, False, False,\n",
       "       False, False, False, False, False, False])"
      ]
     },
     "execution_count": 51,
     "metadata": {},
     "output_type": "execute_result"
    }
   ],
   "source": [
    "top_col.get_support()"
   ]
  },
  {
   "cell_type": "code",
   "execution_count": 54,
   "id": "602cd868",
   "metadata": {},
   "outputs": [
    {
     "data": {
      "text/plain": [
       "Index(['Age_08_04', 'Mfg_Year', 'KM', 'HP', 'Quarterly_Tax', 'Weight', 'Airco',\n",
       "       'Automatic_airco', 'Boardcomputer', 'CD_Player'],\n",
       "      dtype='object')"
      ]
     },
     "execution_count": 54,
     "metadata": {},
     "output_type": "execute_result"
    }
   ],
   "source": [
    "X_train.columns[top_col.get_support()]"
   ]
  },
  {
   "cell_type": "code",
   "execution_count": 55,
   "id": "ad89fad6",
   "metadata": {},
   "outputs": [],
   "source": [
    "scores = top_col.scores_"
   ]
  },
  {
   "cell_type": "code",
   "execution_count": 56,
   "id": "2ea6caaf",
   "metadata": {},
   "outputs": [
    {
     "data": {
      "text/plain": [
       "Age_08_04           0.628975\n",
       "Mfg_Year            0.611185\n",
       "Boardcomputer       0.270196\n",
       "KM                  0.219042\n",
       "Weight              0.217303\n",
       "HP                  0.213419\n",
       "Quarterly_Tax       0.162067\n",
       "CD_Player           0.125760\n",
       "Airco               0.124029\n",
       "Automatic_airco     0.113759\n",
       "Central_Lock        0.080361\n",
       "Sport_Model         0.068743\n",
       "Airbag_2            0.063603\n",
       "Powered_Windows     0.058751\n",
       "Mistlamps           0.056908\n",
       "ABS                 0.052208\n",
       "cc                  0.046649\n",
       "Radio               0.046318\n",
       "Gears               0.043176\n",
       "Radio_cassette      0.038891\n",
       "Met_Color           0.024400\n",
       "Airbag_1            0.022269\n",
       "Tow_Bar             0.020414\n",
       "Doors               0.019025\n",
       "Automatic           0.014613\n",
       "Power_Steering      0.014214\n",
       "Metallic_Rim        0.010081\n",
       "Mfg_Month           0.007567\n",
       "Backseat_Divider    0.007308\n",
       "Cylinders           0.000000\n",
       "Mfr_Guarantee       0.000000\n",
       "BOVAG_Guarantee     0.000000\n",
       "Guarantee_Period    0.000000\n",
       "dtype: float64"
      ]
     },
     "execution_count": 56,
     "metadata": {},
     "output_type": "execute_result"
    }
   ],
   "source": [
    "scores = pd.Series(scores)\n",
    "scores.index = X_train.columns\n",
    "scores.sort_values(ascending=False)"
   ]
  },
  {
   "cell_type": "code",
   "execution_count": 57,
   "id": "ef7281c6",
   "metadata": {},
   "outputs": [
    {
     "data": {
      "text/plain": [
       "<AxesSubplot:>"
      ]
     },
     "execution_count": 57,
     "metadata": {},
     "output_type": "execute_result"
    },
    {
     "data": {
      "image/png": "[encoded data removed]",
      "text/plain": [
       "<Figure size 864x720 with 1 Axes>"
      ]
     },
     "metadata": {
      "needs_background": "light"
     },
     "output_type": "display_data"
    }
   ],
   "source": [
    "plt.figure(figsize=(12, 10))\n",
    "scores.sort_values(ascending=False).plot.bar()"
   ]
  },
  {
   "cell_type": "markdown",
   "id": "6b6638df",
   "metadata": {},
   "source": [
    "# Alternate method using SelectPercentile"
   ]
  },
  {
   "cell_type": "code",
   "execution_count": 58,
   "id": "e3eaa426",
   "metadata": {},
   "outputs": [
    {
     "data": {
      "text/plain": [
       "SelectPercentile(percentile=20,\n",
       "                 score_func=<function mutual_info_regression at 0x0000029DD82F8280>)"
      ]
     },
     "execution_count": 58,
     "metadata": {},
     "output_type": "execute_result"
    }
   ],
   "source": [
    "# Selecting top 20 precentile\n",
    "top_feat= SelectPercentile(mutual_info_regression, percentile=20)\n",
    "top_feat.fit(X_train, y_train)"
   ]
  },
  {
   "cell_type": "code",
   "execution_count": 59,
   "id": "10f88f32",
   "metadata": {},
   "outputs": [
    {
     "data": {
      "text/plain": [
       "array([ True, False,  True,  True,  True, False, False, False, False,\n",
       "       False, False,  True,  True, False, False, False, False, False,\n",
       "       False, False, False,  True, False, False, False, False, False,\n",
       "       False, False, False, False, False, False])"
      ]
     },
     "execution_count": 59,
     "metadata": {},
     "output_type": "execute_result"
    }
   ],
   "source": [
    "top_feat.get_support()"
   ]
  },
  {
   "cell_type": "code",
   "execution_count": 60,
   "id": "dfced2a0",
   "metadata": {},
   "outputs": [
    {
     "data": {
      "text/plain": [
       "Index(['Age_08_04', 'Mfg_Year', 'KM', 'HP', 'Quarterly_Tax', 'Weight',\n",
       "       'Boardcomputer'],\n",
       "      dtype='object')"
      ]
     },
     "execution_count": 60,
     "metadata": {},
     "output_type": "execute_result"
    }
   ],
   "source": [
    "X_train.columns[top_feat.get_support()]"
   ]
  },
  {
   "cell_type": "code",
   "execution_count": 61,
   "id": "6a4b885a",
   "metadata": {},
   "outputs": [],
   "source": [
    "scores_per = top_feat.scores_"
   ]
  },
  {
   "cell_type": "code",
   "execution_count": 62,
   "id": "4d44dc17",
   "metadata": {},
   "outputs": [
    {
     "data": {
      "text/plain": [
       "Age_08_04           0.607672\n",
       "Mfg_Year            0.590963\n",
       "KM                  0.243990\n",
       "Boardcomputer       0.239009\n",
       "Weight              0.202396\n",
       "HP                  0.195531\n",
       "Quarterly_Tax       0.162243\n",
       "CD_Player           0.139109\n",
       "Airco               0.129784\n",
       "ABS                 0.106362\n",
       "Automatic_airco     0.101128\n",
       "Sport_Model         0.079983\n",
       "Airbag_2            0.078023\n",
       "Powered_Windows     0.068217\n",
       "Central_Lock        0.064099\n",
       "Radio               0.064096\n",
       "Backseat_Divider    0.049856\n",
       "Gears               0.045380\n",
       "Met_Color           0.034174\n",
       "Metallic_Rim        0.033492\n",
       "Radio_cassette      0.032935\n",
       "Tow_Bar             0.025464\n",
       "BOVAG_Guarantee     0.015318\n",
       "Guarantee_Period    0.011128\n",
       "Cylinders           0.010353\n",
       "cc                  0.009679\n",
       "Power_Steering      0.009160\n",
       "Mfr_Guarantee       0.003057\n",
       "Airbag_1            0.000000\n",
       "Mfg_Month           0.000000\n",
       "Mistlamps           0.000000\n",
       "Doors               0.000000\n",
       "Automatic           0.000000\n",
       "dtype: float64"
      ]
     },
     "execution_count": 62,
     "metadata": {},
     "output_type": "execute_result"
    }
   ],
   "source": [
    "scores_per = pd.Series(scores_per)\n",
    "scores_per.index = X_train.columns\n",
    "scores_per.sort_values(ascending=False)"
   ]
  },
  {
   "cell_type": "code",
   "execution_count": 64,
   "id": "c17e6c1e",
   "metadata": {},
   "outputs": [
    {
     "data": {
      "text/plain": [
       "<AxesSubplot:>"
      ]
     },
     "execution_count": 64,
     "metadata": {},
     "output_type": "execute_result"
    },
    {
     "data": {
      "image/png": "[encoded data removed]",
      "text/plain": [
       "<Figure size 864x720 with 1 Axes>"
      ]
     },
     "metadata": {
      "needs_background": "light"
     },
     "output_type": "display_data"
    }
   ],
   "source": [
    "plt.figure(figsize=(12, 10))\n",
    "scores_per.sort_values(ascending=False).plot.bar()"
   ]
  },
  {
   "cell_type": "code",
   "execution_count": null,
   "id": "0efb9a48",
   "metadata": {},
   "outputs": [],
   "source": []
  }
 ],
 "metadata": {
  "kernelspec": {
   "display_name": "Python 3",
   "language": "python",
   "name": "python3"
  },
  "language_info": {
   "codemirror_mode": {
    "name": "ipython",
    "version": 3
   },
   "file_extension": ".py",
   "mimetype": "text/x-python",
   "name": "python",
   "nbconvert_exporter": "python",
   "pygments_lexer": "ipython3",
   "version": "3.8.8"
  }
 },
 "nbformat": 4,
 "nbformat_minor": 5
}
